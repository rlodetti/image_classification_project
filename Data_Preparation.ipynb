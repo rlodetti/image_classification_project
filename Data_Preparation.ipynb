{
 "cells": [
  {
   "cell_type": "markdown",
   "id": "d52a1cab-2365-4d4d-aaa8-e657629fdb85",
   "metadata": {},
   "source": [
    "## Data Preparation\n",
    "\n",
    "Describe and justify the process for preparing the data for analysis.\n",
    "\n",
    "***\n",
    "Questions to consider:\n",
    "* Were there variables you dropped or created?\n",
    "* How did you address missing values or outliers?\n",
    "* Why are these choices appropriate given the data and the business problem?\n",
    "***"
   ]
  },
  {
   "cell_type": "markdown",
   "id": "7b3b1003-a3ce-4369-ac80-309ff35e941a",
   "metadata": {},
   "source": [
    "# Contents\n",
    "1. Redistribute Data\n",
    "2. Visualizations of before and after\n",
    "3. Show image sizes data\n",
    "4. Create Dataset\n",
    "5. Display images after resizing\n",
    "6. Process data\n",
    "7. Display images after processing"
   ]
  },
  {
   "cell_type": "code",
   "execution_count": null,
   "id": "3231c708-ec26-4781-8882-8fc3d6522426",
   "metadata": {},
   "outputs": [],
   "source": [
    "%load_ext autoreload\n",
    "%autoreload 2"
   ]
  },
  {
   "cell_type": "markdown",
   "id": "1ebb955f-0608-472b-b1f3-7939973f112a",
   "metadata": {
    "jp-MarkdownHeadingCollapsed": true
   },
   "source": [
    "## 1. Redistribute Data"
   ]
  },
  {
   "cell_type": "code",
   "execution_count": null,
   "id": "c67c5382-07fe-4fa7-9e28-4b3a07677b3a",
   "metadata": {},
   "outputs": [],
   "source": [
    "from my_modules.file_distribution import run_redistribution\n"
   ]
  },
  {
   "cell_type": "markdown",
   "id": "7bbcb200-55ab-425c-ad66-d4b349df81f3",
   "metadata": {},
   "source": [
    "## 2. Visualizations of before and after"
   ]
  },
  {
   "cell_type": "code",
   "execution_count": 1,
   "id": "2f58c679-deff-49b9-afcf-e875314a9ae8",
   "metadata": {},
   "outputs": [
    {
     "ename": "ModuleNotFoundError",
     "evalue": "No module named 'sklearn'",
     "output_type": "error",
     "traceback": [
      "\u001b[0;31m---------------------------------------------------------------------------\u001b[0m",
      "\u001b[0;31mModuleNotFoundError\u001b[0m                       Traceback (most recent call last)",
      "Cell \u001b[0;32mIn[1], line 1\u001b[0m\n\u001b[0;32m----> 1\u001b[0m \u001b[38;5;28;01mfrom\u001b[39;00m \u001b[38;5;21;01mmy_modules\u001b[39;00m\u001b[38;5;21;01m.\u001b[39;00m\u001b[38;5;21;01mfile_distribution\u001b[39;00m \u001b[38;5;28;01mimport\u001b[39;00m prepare_plot, bars_data\n\u001b[1;32m      2\u001b[0m data_dir \u001b[38;5;241m=\u001b[39m \u001b[38;5;124m\"\u001b[39m\u001b[38;5;124mdata/chest_xray\u001b[39m\u001b[38;5;124m\"\u001b[39m\n\u001b[1;32m      3\u001b[0m folders \u001b[38;5;241m=\u001b[39m [\u001b[38;5;124m'\u001b[39m\u001b[38;5;124mnew_train\u001b[39m\u001b[38;5;124m'\u001b[39m, \u001b[38;5;124m'\u001b[39m\u001b[38;5;124mnew_val\u001b[39m\u001b[38;5;124m'\u001b[39m, \u001b[38;5;124m'\u001b[39m\u001b[38;5;124mnew_test\u001b[39m\u001b[38;5;124m'\u001b[39m]\n",
      "File \u001b[0;32m~/Documents/Flatiron/4_phase/project_4/image_classification_project/my_modules/file_distribution.py:7\u001b[0m\n\u001b[1;32m      5\u001b[0m \u001b[38;5;28;01mfrom\u001b[39;00m \u001b[38;5;21;01mpandas\u001b[39;00m \u001b[38;5;28;01mimport\u001b[39;00m DataFrame\n\u001b[1;32m      6\u001b[0m \u001b[38;5;28;01mimport\u001b[39;00m \u001b[38;5;21;01mmatplotlib\u001b[39;00m\u001b[38;5;21;01m.\u001b[39;00m\u001b[38;5;21;01mpyplot\u001b[39;00m \u001b[38;5;28;01mas\u001b[39;00m \u001b[38;5;21;01mplt\u001b[39;00m\n\u001b[0;32m----> 7\u001b[0m \u001b[38;5;28;01mfrom\u001b[39;00m \u001b[38;5;21;01msklearn\u001b[39;00m\u001b[38;5;21;01m.\u001b[39;00m\u001b[38;5;21;01mmodel_selection\u001b[39;00m \u001b[38;5;28;01mimport\u001b[39;00m train_test_split\n\u001b[1;32m      9\u001b[0m \u001b[38;5;28;01mdef\u001b[39;00m \u001b[38;5;21mcount_images\u001b[39m(directory):\n\u001b[1;32m     10\u001b[0m \u001b[38;5;250m    \u001b[39m\u001b[38;5;124;03m\"\"\"\u001b[39;00m\n\u001b[1;32m     11\u001b[0m \u001b[38;5;124;03m    Counts the number of normal and pneumonia images in a given directory.\u001b[39;00m\n\u001b[1;32m     12\u001b[0m \u001b[38;5;124;03m    \"\"\"\u001b[39;00m\n",
      "\u001b[0;31mModuleNotFoundError\u001b[0m: No module named 'sklearn'"
     ]
    }
   ],
   "source": [
    "from my_modules.file_distribution import prepare_plot, bars_data\n",
    "data_dir = \"data/chest_xray\"\n",
    "folders = ['new_train', 'new_val', 'new_test']\n",
    "new_df = prepare_plot(data_dir,folders)\n",
    "bars_data(new_df)"
   ]
  },
  {
   "cell_type": "code",
   "execution_count": null,
   "id": "30eed36d-436f-481e-a0ac-ceefff075817",
   "metadata": {},
   "outputs": [],
   "source": [
    "# Collecting pre and post data\n",
    "old_folders = ['train', 'val', 'test']\n",
    "old_df = prepare_plot(data_dir,old_folders)\n",
    "old_df"
   ]
  },
  {
   "cell_type": "code",
   "execution_count": null,
   "id": "f8104a3b-9ee9-44b0-8f0f-16b6694ef969",
   "metadata": {},
   "outputs": [],
   "source": [
    "import matplotlib.pyplot as plt\n",
    "# Plotting\n",
    "fig, ax = plt.subplots(1, 2, figsize=(10, 5), sharey=True)\n",
    "ax[0].bar(old_df['Dataset'], old_df['Normal'], label='Normal')\n",
    "ax[0].bar(old_df['Dataset'], old_df['Pneumonia'], bottom=old_df['Normal'], label='Pneumonia')\n",
    "ax[0].set_ylabel('Number of Images')\n",
    "ax[0].set_title('Before')\n",
    "ax[1].bar(new_df['Dataset'], new_df['Normal'], label='Normal')\n",
    "ax[1].bar(new_df['Dataset'], new_df['Pneumonia'], bottom=new_df['Normal'], label='Pneumonia')\n",
    "ax[1].set_title('After')\n",
    "plt.legend()"
   ]
  },
  {
   "cell_type": "code",
   "execution_count": null,
   "id": "c88cc2e0-a4c8-4bde-9144-63acfea9077d",
   "metadata": {},
   "outputs": [],
   "source": [
    "def pies(df):\n",
    "    df['norm_rate']=round((df['Normal']/df['Total'])*100,2)\n",
    "    df['pneu_rate']=round((df['Pneumonia']/df['Total'])*100,2)\n",
    "    fig, ax = plt.subplots(1,3, figsize=(9,3))\n",
    "    ax[0].pie(list(df.iloc[0,4:6]), labels=['Normal','Pneumonia'], autopct='%1.f%%', textprops={'fontsize': 12, 'color': 'white', 'fontweight':'bold'})\n",
    "    ax[0].set_title('Train')\n",
    "    ax[1].pie(list(df.iloc[1,4:6]), labels=['Normal','Pneumonia'], autopct='%1.f%%', textprops={'fontsize': 12, 'color': 'white'})\n",
    "    ax[1].set_title('Validation')\n",
    "    ax[2].pie(list(df.iloc[2,4:6]), labels=['Normal','Pneumonia'], autopct='%1.f%%', textprops={'fontsize': 12, 'color': 'white'})\n",
    "    ax[2].set_title('Test')\n",
    "    plt.legend(loc='center left', bbox_to_anchor=(1, 0.5))\n",
    "    plt.show()\n",
    "pies(old_df)"
   ]
  },
  {
   "cell_type": "code",
   "execution_count": null,
   "id": "45bc7ba3-ce69-4906-9267-acf389b60b93",
   "metadata": {},
   "outputs": [],
   "source": [
    "pies(new_df)"
   ]
  },
  {
   "cell_type": "code",
   "execution_count": null,
   "id": "7fee0614-d887-4b81-bbda-23dfef83350f",
   "metadata": {},
   "outputs": [],
   "source": [
    "old_df['total_rate']= round((old_df['Total']/old_df['Total'].sum())*100,2)\n",
    "new_df['total_rate']= round((new_df['Total']/new_df['Total'].sum())*100,2)\n",
    "list(old_df['total_rate'])\n",
    "\n",
    "fig, ax = plt.subplots(1,2, figsize=(6,3))\n",
    "ax[0].pie(list(old_df['total_rate']), labels=['Train','Val', 'Train'], autopct='%1.1f%%')\n",
    "ax[0].set_title('Before')\n",
    "ax[1].pie(list(new_df['total_rate']), labels=['Train','Val', 'Train'], autopct='%1.1f%%')\n",
    "ax[1].set_title('After')"
   ]
  },
  {
   "cell_type": "markdown",
   "id": "f3e9fb6b-f430-49f9-860b-1c57c8c2f7f3",
   "metadata": {},
   "source": [
    "## 3. Show image sizes data"
   ]
  },
  {
   "cell_type": "code",
   "execution_count": null,
   "id": "c043c39c-904d-4d90-ab15-69e0ada2e39f",
   "metadata": {},
   "outputs": [],
   "source": [
    "from my_modules import image_sizes"
   ]
  },
  {
   "cell_type": "markdown",
   "id": "54612da0-5859-490b-b2eb-c53c7401150e",
   "metadata": {},
   "source": [
    "## 4. Create Dataset"
   ]
  },
  {
   "cell_type": "code",
   "execution_count": null,
   "id": "acacc405-cc51-4f84-bea9-423ec30c531a",
   "metadata": {},
   "outputs": [],
   "source": [
    "from my_modules.import_datasets import create_dataset, process_dataset\n",
    "\n",
    "train_dir = \"data/chest_xray/new_train\"\n",
    "val_dir = \"data/chest_xray/new_val\"\n",
    "test_dir = \"data/chest_xray/new_test\"\n",
    "\n",
    "train_ds = create_dataset(train_dir)\n",
    "val_ds = create_dataset(val_dir)\n",
    "test_ds = create_dataset(test_dir)"
   ]
  },
  {
   "cell_type": "markdown",
   "id": "a6883b02-deb1-4015-9676-da20c460ef14",
   "metadata": {},
   "source": [
    "## 5. Display images after resizing"
   ]
  },
  {
   "cell_type": "code",
   "execution_count": null,
   "id": "4ba88ba6-4d67-48f2-8d8b-3125f2e9c8ca",
   "metadata": {},
   "outputs": [],
   "source": [
    "import numpy as np\n",
    "plt.figure(figsize=(10, 10))\n",
    "for images, labels in train_ds.take(1):\n",
    "    for i in range(9):\n",
    "        ax = plt.subplot(3, 3, i + 1)\n",
    "        plt.imshow(images[i],cmap='gray')\n",
    "        if labels[i] == 0:\n",
    "            label = 'Normal'\n",
    "        else:\n",
    "            label = 'Pneumonia'\n",
    "        plt.title(label)\n",
    "        plt.axis(\"off\")"
   ]
  },
  {
   "cell_type": "markdown",
   "id": "7f922427-6360-4581-9560-1355bec9676e",
   "metadata": {},
   "source": [
    "## 6. Process data"
   ]
  },
  {
   "cell_type": "code",
   "execution_count": null,
   "id": "3895d63a-b683-4c56-8c55-590387a6cc2d",
   "metadata": {},
   "outputs": [],
   "source": [
    "from tensorflow.keras.layers.experimental.preprocessing import Rescaling\n",
    "rescale = Rescaling(1./255)\n",
    "train_ds = train_ds.map(lambda x, y: (rescale(x), y))"
   ]
  },
  {
   "cell_type": "markdown",
   "id": "140f7061-8cd9-4168-adea-c6e0257cd9f2",
   "metadata": {},
   "source": [
    "## 7. Display images after processing"
   ]
  },
  {
   "cell_type": "code",
   "execution_count": null,
   "id": "948ad6e5-6dd8-4dde-a252-3d5386b27d6b",
   "metadata": {},
   "outputs": [],
   "source": [
    "plt.figure(figsize=(10, 10))\n",
    "for images, labels in train_ds.take(1):\n",
    "    for i in range(9):\n",
    "        ax = plt.subplot(3, 3, i + 1)\n",
    "        plt.imshow(images[i],cmap='gray')\n",
    "        if labels[i] == 0:\n",
    "            label = 'Normal'\n",
    "        else:\n",
    "            label = 'Pneumonia'\n",
    "        plt.title(label)\n",
    "        plt.axis(\"off\")"
   ]
  }
 ],
 "metadata": {
  "kernelspec": {
   "display_name": "Python 3 (ipykernel)",
   "language": "python",
   "name": "python3"
  },
  "language_info": {
   "codemirror_mode": {
    "name": "ipython",
    "version": 3
   },
   "file_extension": ".py",
   "mimetype": "text/x-python",
   "name": "python",
   "nbconvert_exporter": "python",
   "pygments_lexer": "ipython3",
   "version": "3.11.8"
  }
 },
 "nbformat": 4,
 "nbformat_minor": 5
}
