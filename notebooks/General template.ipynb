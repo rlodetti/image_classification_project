{
 "cells": [
  {
   "cell_type": "markdown",
   "id": "29d7224e-5979-4aa9-9fbb-5f42a759c257",
   "metadata": {},
   "source": [
    "# Image Classification with Deep Learning Project\n",
    "***\n",
    "\n",
    "**Author:** Ron Lodetti Jr.\n",
    "![Heart](./images/heart.jpeg)"
   ]
  },
  {
   "cell_type": "markdown",
   "id": "4414f71c-1523-4b9f-8fc0-b1ed8195ac2c",
   "metadata": {},
   "source": [
    "## Overview\n",
    "***\n",
    "This project uses machine learning and data from the CDC's [2021 Behavioral Risk Factor Surveillance System (BRFSS)](https://www.cdc.gov/brfss/annual_data/annual_2021.html) to help a hospital identify patients who would benefit from an educational program about heart health. After model iteration and hyperparameter tuning, our final model can **correctly predict about 81% of the people with a heart condition**, while only mislabeling about 29% of negative cases as positive. "
   ]
  },
  {
   "cell_type": "markdown",
   "id": "e2eacfe9-292e-4b1d-a05b-1a6814be3839",
   "metadata": {},
   "source": [
    "## Overview\n",
    "\n",
    "A one-paragraph overview of the project, including the business problem, data, methods, results and recommendations."
   ]
  },
  {
   "cell_type": "markdown",
   "id": "dad6f105-0444-4c6d-908b-44c812c5c845",
   "metadata": {},
   "source": [
    "## Business Problem\n",
    "\n",
    "Summary of the business problem you are trying to solve, and the data questions that you plan to answer to solve them.\n",
    "\n",
    "***\n",
    "Questions to consider:\n",
    "* What are the business's pain points related to this project?\n",
    "* How did you pick the data analysis question(s) that you did?\n",
    "* Why are these questions important from a business perspective?\n",
    "***"
   ]
  },
  {
   "cell_type": "markdown",
   "id": "82466537-7d2b-442c-9d2a-9fe0ecc8ef7b",
   "metadata": {},
   "source": [
    "## Business Problem\n",
    "***\n",
    "Cardiovascular diseases are the [leading cause of death](https://en.wikipedia.org/wiki/List_of_causes_of_death_by_rate) worldwide except Africa. A hospital wants to be able to identify patients who are at risk of Cardiovascular disease (CVD) to begin taking preventative measures as early as possible. The hospital has developed a new online educational program and would like to recommend it to any patience at risk. "
   ]
  },
  {
   "cell_type": "markdown",
   "id": "0a1bbb05-f17a-4a19-9e73-0823723b7bd1",
   "metadata": {},
   "source": [
    "## Data Understanding\n",
    "\n",
    "Describe the data being used for this project.\n",
    "***\n",
    "Questions to consider:\n",
    "* Where did the data come from, and how do they relate to the data analysis questions?\n",
    "* What do the data represent? Who is in the sample and what variables are included?\n",
    "* What is the target variable?\n",
    "* What are the properties of the variables you intend to use?\n",
    "***"
   ]
  },
  {
   "cell_type": "code",
   "execution_count": null,
   "id": "5618dd6e-6d12-4a63-8c75-124a5ba31028",
   "metadata": {},
   "outputs": [],
   "source": [
    "## Data Preparation\n",
    "\n",
    "Describe and justify the process for preparing the data for analysis.\n",
    "\n",
    "***\n",
    "Questions to consider:\n",
    "* Were there variables you dropped or created?\n",
    "* How did you address missing values or outliers?\n",
    "* Why are these choices appropriate given the data and the business problem?\n",
    "***"
   ]
  },
  {
   "cell_type": "code",
   "execution_count": null,
   "id": "740bd7e9-fddf-4e60-b5df-23938a7a2b7e",
   "metadata": {},
   "outputs": [],
   "source": [
    "## Data Modeling\n",
    "Describe and justify the process for analyzing or modeling the data.\n",
    "\n",
    "Questions to consider:\n",
    "\n",
    "How did you analyze or model the data?\n",
    "How did you iterate on your initial approach to make it better?\n",
    "Why are these choices appropriate given the data and the business problem?"
   ]
  },
  {
   "cell_type": "code",
   "execution_count": null,
   "id": "4dfce15d-9157-4298-9b1a-7309dee45b1a",
   "metadata": {},
   "outputs": [],
   "source": [
    "## Evaluation\n",
    "Evaluate how well your work solves the stated business problem.\n",
    "\n",
    "***\n",
    "Questions to consider:\n",
    "* How do you interpret the results?\n",
    "* How well does your model fit your data? How much better is this than your baseline model?\n",
    "* How confident are you that your results would generalize beyond the data you have?\n",
    "* How confident are you that this model would benefit the business if put into use?\n",
    "***"
   ]
  },
  {
   "cell_type": "code",
   "execution_count": null,
   "id": "4160e72e-47d9-4104-aa19-16ac49955782",
   "metadata": {},
   "outputs": [],
   "source": [
    "## Conclusions\n",
    "Provide your conclusions about the work you've done, including any limitations or next steps.\n",
    "\n",
    "***\n",
    "Questions to consider:\n",
    "* What would you recommend the business do as a result of this work?\n",
    "* What are some reasons why your analysis might not fully solve the business problem?\n",
    "* What else could you do in the future to improve this project?\n",
    "***\n",
    "\n",
    "NOTES: maybe split betwen bacteria or virus, gather more data obv"
   ]
  },
  {
   "cell_type": "code",
   "execution_count": null,
   "id": "9d9cf521-28de-47ac-80b7-120d9b16acdf",
   "metadata": {},
   "outputs": [],
   "source": []
  },
  {
   "cell_type": "code",
   "execution_count": null,
   "id": "4637ef1e-e402-435a-99a6-30463e2a2c70",
   "metadata": {},
   "outputs": [],
   "source": []
  },
  {
   "cell_type": "code",
   "execution_count": null,
   "id": "e003ffd5-eb0d-40c8-9990-f272b606c85f",
   "metadata": {},
   "outputs": [],
   "source": []
  },
  {
   "cell_type": "code",
   "execution_count": null,
   "id": "eb6884f0-ec9e-42cf-9fdb-ae9c7856b119",
   "metadata": {},
   "outputs": [],
   "source": []
  }
 ],
 "metadata": {
  "kernelspec": {
   "display_name": "Python 3 (ipykernel)",
   "language": "python",
   "name": "python3"
  },
  "language_info": {
   "codemirror_mode": {
    "name": "ipython",
    "version": 3
   },
   "file_extension": ".py",
   "mimetype": "text/x-python",
   "name": "python",
   "nbconvert_exporter": "python",
   "pygments_lexer": "ipython3",
   "version": "3.10.13"
  }
 },
 "nbformat": 4,
 "nbformat_minor": 5
}
