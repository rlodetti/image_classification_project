{
 "cells": [
  {
   "cell_type": "markdown",
   "id": "0a1bbb05-f17a-4a19-9e73-0823723b7bd1",
   "metadata": {},
   "source": [
    "## Data Understanding\n",
    "\n",
    "Describe the data being used for this project.\n",
    "***\n",
    "Questions to consider:\n",
    "* Where did the data come from, and how do they relate to the data analysis questions?\n",
    "* What do the data represent? Who is in the sample and what variables are included?\n",
    "* What is the target variable?\n",
    "* What are the properties of the variables you intend to use?\n",
    "***"
   ]
  },
  {
   "cell_type": "markdown",
   "id": "ae9dc59c-dad3-4549-a58c-1cb5b4210673",
   "metadata": {},
   "source": [
    "The dataset originally comes from Kermany et al. on [Mendeley](https://data.mendeley.com/datasets/rscbjbr9sj/3). I downloaded the data from [Kaggle](https://www.kaggle.com/datasets/paultimothymooney/chest-xray-pneumonia) as it had already separated out the chest x-ray images. \n",
    "\n",
    ">The following description is taken directly from [Kaggle](https://www.kaggle.com/datasets/paultimothymooney/chest-xray-pneumonia):\n",
    "The dataset is organized into 3 folders (train, test, val) and contains subfolders for each image category (Pneumonia/Normal). There are 5,863 X-Ray images (JPEG) and 2 categories (Pneumonia/Normal).\n",
    ">\n",
    ">Chest X-ray images (anterior-posterior) were selected from retrospective cohorts of pediatric patients of one to five years old from Guangzhou Women and Children’s Medical Center, Guangzhou. All chest X-ray imaging was performed as part of patients’ routine clinical care.\n",
    ">\n",
    ">For the analysis of chest x-ray images, all chest radiographs were initially screened for quality control by removing all low quality or unreadable scans. The diagnoses for the images were then graded by two expert physicians before being cleared for training the AI system. In order to account for any grading errors, the evaluation set was also checked by a third expert.\n",
    "\n",
    "\n",
    "Kermany D, Goldbaum M, Cai W et al. Identifying Medical Diagnoses and Treatable Diseases by Image-Based Deep Learning. Cell. 2018; 172(5):1122-1131. doi:10.1016/j.cell.2018.02.010.\n",
    " "
   ]
  },
  {
   "cell_type": "code",
   "execution_count": null,
   "id": "ee96f210-6c61-4136-8c10-3567c5229159",
   "metadata": {},
   "outputs": [],
   "source": [
    "# Include random pnemonia image and normal image"
   ]
  },
  {
   "cell_type": "code",
   "execution_count": null,
   "id": "17da045c-b943-4c56-9e11-58742f3d0615",
   "metadata": {},
   "outputs": [],
   "source": [
    "import os\n",
    "import shutil\n",
    "from sklearn.model_selection import train_test_split\n",
    "\n",
    "# making the paths to the datasets\n",
    "train_normal = \"../data/chest_xray/train/NORMAL\"\n",
    "train_pneumonia = \"../data/chest_xray/train/PNEUMONIA\"\n",
    "\n",
    "test_normal = \"../data/chest_xray/test/NORMAL\"\n",
    "test_pneumonia = \"../data/chest_xray/test/PNEUMONIA\"\n",
    "\n",
    "val_normal = \"../data/chest_xray/val/NORMAL\"\n",
    "val_pneumonia = \"../data/chest_xray/val/PNEUMONIA\"\n"
   ]
  },
  {
   "cell_type": "code",
   "execution_count": 1,
   "id": "b97ba721-88af-46ea-9264-90a54ee327e6",
   "metadata": {},
   "outputs": [],
   "source": [
    "# Maybe make a visual showing the original distribution (Positive vs. Negative) of images\n",
    "# Training: 3875 to 1341, ratio: 74-26\n",
    "# Validation: 8 to 8, ratio: 50-50\n",
    "# Testing: 390 to 234, ratio: 63-38\n",
    "# Train-Val-Test ratio total:5216-16-624  percent: 89.07-0.27-10.66\n",
    "\n",
    "# After\n",
    "# Training: 3418 to 1266, ratio: 73-27\n",
    "# Validation: 428 to 159, ratio: 73-27\n",
    "# Testing: 427 to 159, ratio: 73-27\n",
    "# Train-Val-Test ratio total: 4684-587-585  percent: 80-10-10"
   ]
  },
  {
   "cell_type": "code",
   "execution_count": null,
   "id": "91e8460b-d1ec-453d-b9e0-928485492ab6",
   "metadata": {},
   "outputs": [],
   "source": []
  },
  {
   "cell_type": "code",
   "execution_count": null,
   "id": "5618dd6e-6d12-4a63-8c75-124a5ba31028",
   "metadata": {},
   "outputs": [],
   "source": [
    "## Data Preparation\n",
    "\n",
    "Describe and justify the process for preparing the data for analysis.\n",
    "\n",
    "***\n",
    "Questions to consider:\n",
    "* Were there variables you dropped or created?\n",
    "* How did you address missing values or outliers?\n",
    "* Why are these choices appropriate given the data and the business problem?\n",
    "***"
   ]
  },
  {
   "cell_type": "code",
   "execution_count": null,
   "id": "740bd7e9-fddf-4e60-b5df-23938a7a2b7e",
   "metadata": {},
   "outputs": [],
   "source": [
    "## Data Modeling\n",
    "Describe and justify the process for analyzing or modeling the data.\n",
    "\n",
    "Questions to consider:\n",
    "\n",
    "How did you analyze or model the data?\n",
    "How did you iterate on your initial approach to make it better?\n",
    "Why are these choices appropriate given the data and the business problem?"
   ]
  },
  {
   "cell_type": "code",
   "execution_count": null,
   "id": "4dfce15d-9157-4298-9b1a-7309dee45b1a",
   "metadata": {},
   "outputs": [],
   "source": [
    "## Evaluation\n",
    "Evaluate how well your work solves the stated business problem.\n",
    "\n",
    "***\n",
    "Questions to consider:\n",
    "* How do you interpret the results?\n",
    "* How well does your model fit your data? How much better is this than your baseline model?\n",
    "* How confident are you that your results would generalize beyond the data you have?\n",
    "* How confident are you that this model would benefit the business if put into use?\n",
    "***"
   ]
  },
  {
   "cell_type": "code",
   "execution_count": null,
   "id": "4160e72e-47d9-4104-aa19-16ac49955782",
   "metadata": {},
   "outputs": [],
   "source": [
    "## Conclusions\n",
    "Provide your conclusions about the work you've done, including any limitations or next steps.\n",
    "\n",
    "***\n",
    "Questions to consider:\n",
    "* What would you recommend the business do as a result of this work?\n",
    "* What are some reasons why your analysis might not fully solve the business problem?\n",
    "* What else could you do in the future to improve this project?\n",
    "***"
   ]
  },
  {
   "cell_type": "code",
   "execution_count": null,
   "id": "9d9cf521-28de-47ac-80b7-120d9b16acdf",
   "metadata": {},
   "outputs": [],
   "source": []
  },
  {
   "cell_type": "code",
   "execution_count": null,
   "id": "4637ef1e-e402-435a-99a6-30463e2a2c70",
   "metadata": {},
   "outputs": [],
   "source": []
  },
  {
   "cell_type": "code",
   "execution_count": null,
   "id": "e003ffd5-eb0d-40c8-9990-f272b606c85f",
   "metadata": {},
   "outputs": [],
   "source": []
  },
  {
   "cell_type": "code",
   "execution_count": null,
   "id": "eb6884f0-ec9e-42cf-9fdb-ae9c7856b119",
   "metadata": {},
   "outputs": [],
   "source": []
  }
 ],
 "metadata": {
  "kernelspec": {
   "display_name": "Python 3 (ipykernel)",
   "language": "python",
   "name": "python3"
  },
  "language_info": {
   "codemirror_mode": {
    "name": "ipython",
    "version": 3
   },
   "file_extension": ".py",
   "mimetype": "text/x-python",
   "name": "python",
   "nbconvert_exporter": "python",
   "pygments_lexer": "ipython3",
   "version": "3.10.13"
  }
 },
 "nbformat": 4,
 "nbformat_minor": 5
}
