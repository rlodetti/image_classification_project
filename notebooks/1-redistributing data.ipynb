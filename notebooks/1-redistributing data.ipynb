{
 "cells": [
  {
   "cell_type": "code",
   "execution_count": 3,
   "id": "610ed524-195c-42c0-9df9-4d4da82b9006",
   "metadata": {},
   "outputs": [],
   "source": [
    "import os\n",
    "import shutil\n",
    "from sklearn.model_selection import train_test_split"
   ]
  },
  {
   "cell_type": "code",
   "execution_count": 4,
   "id": "65ea6479-b981-48f2-ab69-89d4eea47e22",
   "metadata": {},
   "outputs": [],
   "source": [
    "# making the paths to the datasets\n",
    "train_normal = \"../data/chest_xray/train/NORMAL\"\n",
    "train_pneumonia = \"../data/chest_xray/train/PNEUMONIA\"\n",
    "\n",
    "test_normal = \"../data/chest_xray/test/NORMAL\"\n",
    "test_pneumonia = \"../data/chest_xray/test/PNEUMONIA\"\n",
    "\n",
    "val_normal = \"../data/chest_xray/val/NORMAL\"\n",
    "val_pneumonia = \"../data/chest_xray/val/PNEUMONIA\""
   ]
  },
  {
   "cell_type": "code",
   "execution_count": 5,
   "id": "572fb02c-fdc2-4eb7-8480-f9bf783d51ee",
   "metadata": {},
   "outputs": [
    {
     "name": "stdout",
     "output_type": "stream",
     "text": [
      "There are 1341 normal images in the training set\n",
      "There are 3875 pnemonia images in the training set\n",
      "Making a total of 5216 in the training set\n"
     ]
    }
   ],
   "source": [
    "#Looking at the distribution of training, testing, and validation sets. \n",
    "print('There are', len(os.listdir(train_normal)), 'normal images in the training set')\n",
    "print('There are', len(os.listdir(train_pneumonia)), 'pnemonia images in the training set')\n",
    "print('Making a total of', len(os.listdir(train_normal))+len(os.listdir(train_pneumonia)), 'in the training set')"
   ]
  },
  {
   "cell_type": "code",
   "execution_count": 6,
   "id": "dd4b060c-136d-42b8-b894-cbcd1e31959d",
   "metadata": {},
   "outputs": [
    {
     "name": "stdout",
     "output_type": "stream",
     "text": [
      "There are 234 normal images in the testing set\n",
      "There are 390 pnemonia images in the testing set\n",
      "Making a total of 624 in the testing set\n"
     ]
    }
   ],
   "source": [
    "print('There are', len(os.listdir(test_normal)), 'normal images in the testing set')\n",
    "print('There are', len(os.listdir(test_pneumonia)), 'pnemonia images in the testing set')\n",
    "print('Making a total of', len(os.listdir(test_normal))+len(os.listdir(test_pneumonia)), 'in the testing set')"
   ]
  },
  {
   "cell_type": "code",
   "execution_count": 7,
   "id": "e35bf0ef-932a-4e78-adc5-2eb3f1a579f0",
   "metadata": {
    "scrolled": true
   },
   "outputs": [
    {
     "name": "stdout",
     "output_type": "stream",
     "text": [
      "There are 8 normal images in the validation set\n",
      "There are 8 pnemonia images in the validation set\n",
      "Making a total of 16 in the validation set\n"
     ]
    }
   ],
   "source": [
    "print('There are', len(os.listdir(val_normal)), 'normal images in the validation set')\n",
    "print('There are', len(os.listdir(val_pneumonia)), 'pnemonia images in the validation set')\n",
    "print('Making a total of', len(os.listdir(val_normal))+len(os.listdir(val_pneumonia)), 'in the validation set')"
   ]
  },
  {
   "cell_type": "markdown",
   "id": "60a0e11f-78e5-4772-a224-9eb718df347a",
   "metadata": {},
   "source": [
    "Based on this distribution, I want to resdistribute to an 80-10-10 split"
   ]
  },
  {
   "cell_type": "code",
   "execution_count": 9,
   "id": "d6b35dd4-088b-4433-baf9-8c2fb3ed3b84",
   "metadata": {},
   "outputs": [],
   "source": [
    "# Base directory\n",
    "base_dir = \"../data/chest_xray\"\n",
    "\n",
    "# Original data directories\n",
    "train_dir = os.path.join(base_dir, \"train\")\n",
    "test_dir = os.path.join(base_dir, \"test\")\n",
    "val_dir = os.path.join(base_dir, \"val\")\n",
    "\n",
    "# Define new directories for the redistributed dataset\n",
    "new_train_dir = os.path.join(base_dir, \"new_train\")\n",
    "new_val_dir = os.path.join(base_dir, \"new_val\")\n",
    "new_test_dir = os.path.join(base_dir, \"new_test\")\n",
    "\n",
    "# Create new directories\n",
    "for directory in [new_train_dir, new_val_dir, new_test_dir]:\n",
    "    if not os.path.exists(directory):\n",
    "        os.makedirs(directory)\n",
    "        os.makedirs(os.path.join(directory, \"NORMAL\"))\n",
    "        os.makedirs(os.path.join(directory, \"PNEUMONIA\"))\n"
   ]
  },
  {
   "cell_type": "code",
   "execution_count": 10,
   "id": "e5635a0c-0110-4ffc-b3d3-b4f9758eca61",
   "metadata": {},
   "outputs": [],
   "source": [
    "def collect_and_combine_data(source_dirs, dest_dir):\n",
    "    for label in [\"NORMAL\", \"PNEUMONIA\"]:\n",
    "        files = []\n",
    "        for dir_path in source_dirs:\n",
    "            label_dir = os.path.join(dir_path, label)\n",
    "            files.extend([os.path.join(label_dir, f) for f in os.listdir(label_dir)])\n",
    "        \n",
    "        # Now `files` contains all images of the current label from all sets\n",
    "        # We'll move them to a temporary combined directory for easier handling\n",
    "        combined_dir = os.path.join(dest_dir, label)\n",
    "        for file in files:\n",
    "            shutil.copy(file, combined_dir)\n",
    "\n",
    "# Collect and combine all data into a temporary directory\n",
    "temp_combined_dir = os.path.join(base_dir, \"temp_combined\")\n",
    "if not os.path.exists(temp_combined_dir):\n",
    "    os.makedirs(temp_combined_dir)\n",
    "    os.makedirs(os.path.join(temp_combined_dir, \"NORMAL\"))\n",
    "    os.makedirs(os.path.join(temp_combined_dir, \"PNEUMONIA\"))\n",
    "\n",
    "collect_and_combine_data([train_dir, test_dir, val_dir], temp_combined_dir)\n"
   ]
  },
  {
   "cell_type": "code",
   "execution_count": 12,
   "id": "7172d42b-20bc-41c3-90f2-480933762425",
   "metadata": {},
   "outputs": [],
   "source": [
    "def split_and_distribute_data(source_dir, train_dir, val_dir, test_dir, split_ratio=(0.8, 0.1, 0.1)):\n",
    "    for label in [\"NORMAL\", \"PNEUMONIA\"]:\n",
    "        files = [os.path.join(source_dir, label, f) for f in os.listdir(os.path.join(source_dir, label))]\n",
    "        \n",
    "        # Splitting the files\n",
    "        train_files, test_files = train_test_split(files, test_size=split_ratio[1] + split_ratio[2], stratify= None, random_state=42)\n",
    "        val_files, test_files = train_test_split(test_files, test_size=split_ratio[2] / (split_ratio[1] + split_ratio[2]), stratify= None, random_state=42)\n",
    "        \n",
    "        # Function to copy files to the new directories\n",
    "        def copy_files(files, dest_dir):\n",
    "            for file in files:\n",
    "                shutil.copy(file, os.path.join(dest_dir, label))\n",
    "        \n",
    "        # Distribute files\n",
    "        copy_files(train_files, train_dir)\n",
    "        copy_files(val_files, val_dir)\n",
    "        copy_files(test_files, test_dir)\n",
    "\n",
    "split_and_distribute_data(temp_combined_dir, new_train_dir, new_val_dir, new_test_dir)\n"
   ]
  },
  {
   "cell_type": "code",
   "execution_count": null,
   "id": "c73a5fe3-55a2-4b98-afe7-191abbf31463",
   "metadata": {},
   "outputs": [],
   "source": [
    "shutil.rmtree(temp_combined_dir)"
   ]
  },
  {
   "cell_type": "code",
   "execution_count": 14,
   "id": "5641f656-49a5-4cf4-9f59-6378d7ee3b04",
   "metadata": {},
   "outputs": [
    {
     "name": "stdout",
     "output_type": "stream",
     "text": [
      "There are 1266 normal images in the new training set\n",
      "There are 3418 pnemonia images in the new training set\n",
      "Making a total of 4684 in the new training set\n",
      "\n",
      "There are 159 normal images in the new testing set\n",
      "There are 428 pnemonia images in the new testing set\n",
      "Making a total of 587 in the new testing set\n",
      "\n",
      "There are 158 normal images in the new validation set\n",
      "There are 427 pnemonia images in the new validation set\n",
      "Making a total of 585 in the new validation set\n"
     ]
    }
   ],
   "source": [
    "new_train_normal = \"../data/chest_xray/new_train/NORMAL\"\n",
    "new_train_pneumonia = \"../data/chest_xray/new_train/PNEUMONIA\"\n",
    "print('There are', len(os.listdir(new_train_normal)), 'normal images in the new training set')\n",
    "print('There are', len(os.listdir(new_train_pneumonia)), 'pnemonia images in the new training set')\n",
    "print('Making a total of', len(os.listdir(new_train_normal))+len(os.listdir(new_train_pneumonia)), 'in the new training set')\n",
    "print('')\n",
    "\n",
    "new_test_normal = \"../data/chest_xray/new_test/NORMAL\"\n",
    "new_test_pneumonia = \"../data/chest_xray/new_test/PNEUMONIA\"\n",
    "print('There are', len(os.listdir(new_test_normal)), 'normal images in the new testing set')\n",
    "print('There are', len(os.listdir(new_test_pneumonia)), 'pnemonia images in the new testing set')\n",
    "print('Making a total of', len(os.listdir(new_test_normal))+len(os.listdir(new_test_pneumonia)), 'in the new testing set')\n",
    "print('')\n",
    "\n",
    "new_val_normal = \"../data/chest_xray/new_val/NORMAL\"\n",
    "new_val_pneumonia = \"../data/chest_xray/new_val/PNEUMONIA\"\n",
    "print('There are', len(os.listdir(new_val_normal)), 'normal images in the new validation set')\n",
    "print('There are', len(os.listdir(new_val_pneumonia)), 'pnemonia images in the new validation set')\n",
    "print('Making a total of', len(os.listdir(new_val_normal))+len(os.listdir(new_val_pneumonia)), 'in the new validation set')"
   ]
  }
 ],
 "metadata": {
  "kernelspec": {
   "display_name": "Python 3 (ipykernel)",
   "language": "python",
   "name": "python3"
  },
  "language_info": {
   "codemirror_mode": {
    "name": "ipython",
    "version": 3
   },
   "file_extension": ".py",
   "mimetype": "text/x-python",
   "name": "python",
   "nbconvert_exporter": "python",
   "pygments_lexer": "ipython3",
   "version": "3.10.13"
  }
 },
 "nbformat": 4,
 "nbformat_minor": 5
}
