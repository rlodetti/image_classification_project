{
 "cells": [
  {
   "cell_type": "markdown",
   "id": "ef71a5a1-2bbc-4ab9-9908-adbcf5e112ad",
   "metadata": {},
   "source": [
    "## Data Modeling\n",
    "Describe and justify the process for analyzing or modeling the data.\n",
    "\n",
    "Questions to consider:\n",
    "\n",
    "How did you analyze or model the data?\n",
    "How did you iterate on your initial approach to make it better?\n",
    "Why are these choices appropriate given the data and the business problem?"
   ]
  },
  {
   "cell_type": "markdown",
   "id": "4a071587-43a2-4ec0-890f-9d7725e63f21",
   "metadata": {},
   "source": [
    "# Contents\n",
    "1. Load the dataset\n",
    "2. Baseline model\n",
    "3. Model Iterations"
   ]
  },
  {
   "cell_type": "markdown",
   "id": "1bda2016-db70-429f-ae58-a237af87b073",
   "metadata": {},
   "source": [
    "## 1.Loading Dataset"
   ]
  },
  {
   "cell_type": "code",
   "execution_count": null,
   "id": "b752080a-d5fc-4015-aa83-6fc4e6dcd1b7",
   "metadata": {},
   "outputs": [],
   "source": [
    "%load_ext autoreload\n",
    "%autoreload 2"
   ]
  },
  {
   "cell_type": "code",
   "execution_count": null,
   "id": "55c2ecb0-aa0d-4b68-ab6e-e27cb0f51d86",
   "metadata": {},
   "outputs": [],
   "source": [
    "# from code import image_sizes.py\n",
    "AVG_RATIO = 1.3675285705588607\n",
    "from code.import_datasets import create_dataset\n",
    "# from code.model_evaluator import modeler\n",
    "train_dir = \"data/chest_xray/new_train\"\n",
    "val_dir = \"data/chest_xray/new_val\"\n",
    "test_dir = \"data/chest_xray/new_test\"\n",
    "\n",
    "train_ds = process_dataset(create_dataset(train_dir))\n",
    "val_ds = process_dataset(create_dataset(val_dir))\n",
    "test_ds = process_dataset(create_dataset(test_dir))\n",
    "\n",
    "for inputs, labels in train_ds.take(1):\n",
    "        input_shape = inputs.shape[1:]\n",
    "        break"
   ]
  },
  {
   "cell_type": "markdown",
   "id": "1732b14c-35fb-48bc-8fc6-96e52e5a2956",
   "metadata": {},
   "source": [
    "For metrics, I chose accuracy to show overall performance of the model, Recall to emphasise the importance of minimizing false negatives, and AUC. "
   ]
  },
  {
   "cell_type": "code",
   "execution_count": null,
   "id": "866f0a31-993a-4b3a-8361-b32e9cf023c1",
   "metadata": {},
   "outputs": [],
   "source": [
    "import sys\n",
    "sys.path.append(os.getcwd())"
   ]
  },
  {
   "cell_type": "code",
   "execution_count": 1,
   "id": "6909e9f2-2026-441c-b6a2-64fccd42dcbc",
   "metadata": {},
   "outputs": [
    {
     "ename": "ModuleNotFoundError",
     "evalue": "No module named 'code.import_datasets'; 'code' is not a package",
     "output_type": "error",
     "traceback": [
      "\u001b[0;31m---------------------------------------------------------------------------\u001b[0m",
      "\u001b[0;31mModuleNotFoundError\u001b[0m                       Traceback (most recent call last)",
      "Cell \u001b[0;32mIn[1], line 1\u001b[0m\n\u001b[0;32m----> 1\u001b[0m \u001b[38;5;28;01mfrom\u001b[39;00m \u001b[38;5;21;01mcode\u001b[39;00m\u001b[38;5;21;01m.\u001b[39;00m\u001b[38;5;21;01mimport_datasets\u001b[39;00m \u001b[38;5;28;01mimport\u001b[39;00m create_dataset\n",
      "\u001b[0;31mModuleNotFoundError\u001b[0m: No module named 'code.import_datasets'; 'code' is not a package"
     ]
    }
   ],
   "source": [
    "from code.import_datasets import create_dataset"
   ]
  },
  {
   "cell_type": "markdown",
   "id": "70b4aef1-c8df-4122-b72a-ee0bd167708a",
   "metadata": {},
   "source": [
    "## Baseline Model"
   ]
  },
  {
   "cell_type": "code",
   "execution_count": null,
   "id": "f34b988b-e86b-4a88-883e-41bf136fceb3",
   "metadata": {},
   "outputs": [],
   "source": [
    "train_ds = train_ds\n",
    "val_ds = val_ds"
   ]
  },
  {
   "cell_type": "code",
   "execution_count": null,
   "id": "8eb5fa39-23c4-4a85-934f-2a1fe79af5f7",
   "metadata": {},
   "outputs": [],
   "source": [
    "baseline_model = models.Sequential([\n",
    "    layers.Flatten(input_shape=input_shape),\n",
    "    layers.Dense(10, activation='relu',kernel_initializer='he_normal'),\n",
    "    layers.Dense(1, activation='sigmoid')])\n",
    "\n",
    "baseline_results, baseline_model = modeler(baseline_model, num_epochs=10)"
   ]
  },
  {
   "cell_type": "code",
   "execution_count": null,
   "id": "98c78a96-3f91-44b8-aa25-9a3061769c9e",
   "metadata": {},
   "outputs": [],
   "source": [
    "model_2 = models.Sequential([\n",
    "    layers.Flatten(input_shape=input_shape),\n",
    "    layers.Dense(128, activation='relu',kernel_initializer='he_normal'),\n",
    "    layers.Dense(1, activation='sigmoid')])\n",
    "\n",
    "results_2, model_2 = modeler(model_2, num_epochs=50)"
   ]
  },
  {
   "cell_type": "code",
   "execution_count": null,
   "id": "8cbf25b4-e901-4b97-9d5a-96ad0980b4ed",
   "metadata": {},
   "outputs": [],
   "source": [
    "model_3 = models.Sequential([\n",
    "    layers.Flatten(input_shape=input_shape),\n",
    "    layers.Dense(128, activation='relu',kernel_initializer='he_normal'),\n",
    "    layers.Dense(64, activation='relu',kernel_initializer='he_normal'),\n",
    "    layers.Dense(1, activation='sigmoid')])\n",
    "\n",
    "results_3, model_3 = modeler(model_3, num_epochs=50)"
   ]
  },
  {
   "cell_type": "code",
   "execution_count": null,
   "id": "1a489be9-d5ee-4afc-978c-7aad8e63047b",
   "metadata": {},
   "outputs": [],
   "source": [
    "model_4 = models.Sequential([\n",
    "    layers.Flatten(input_shape=input_shape),\n",
    "    layers.Dense(128, activation='relu',kernel_initializer='he_normal'),\n",
    "    layers.Dropout(0.3),\n",
    "    layers.Dense(64, activation='relu',kernel_initializer='he_normal'),\n",
    "    layers.Dropout(0.3),\n",
    "    layers.Dense(1, activation='sigmoid')])\n",
    "\n",
    "results_4, model_4 = modeler(model_4, num_epochs=50)"
   ]
  },
  {
   "cell_type": "code",
   "execution_count": null,
   "id": "b65b2716-b782-44a9-9a53-852d14ace5d9",
   "metadata": {},
   "outputs": [],
   "source": [
    "model_5 = models.Sequential([\n",
    "    layers.Conv2D(32, (3, 3), activation='relu',kernel_initializer='he_normal', input_shape= input_shape),\n",
    "    layers.MaxPooling2D((2, 2)),\n",
    "    layers.Flatten(),\n",
    "    layers.Dense(128, activation='relu',kernel_initializer='he_normal'),\n",
    "    layers.Dense(1, activation='sigmoid')\n",
    "])\n",
    "results_5, model_5 = modeler(model_5, num_epochs=50)"
   ]
  },
  {
   "cell_type": "code",
   "execution_count": null,
   "id": "cc80d8e4-69a3-4715-a3d3-67cf6bb27414",
   "metadata": {},
   "outputs": [],
   "source": [
    "model_6 = models.Sequential([\n",
    "    layers.Conv2D(32, (3, 3), activation='relu',kernel_initializer='he_normal', input_shape= input_shape),\n",
    "    layers.MaxPooling2D((2, 2)),\n",
    "    layers.Conv2D(64, (3, 3), activation='relu',kernel_initializer='he_normal'),\n",
    "    layers.MaxPooling2D((2, 2)),\n",
    "    layers.Flatten(),\n",
    "    layers.Dense(128, activation='relu',kernel_initializer='he_normal'),\n",
    "    layers.Dense(1, activation='sigmoid')\n",
    "])\n",
    "results_6, model_6 = modeler(model_6, num_epochs=50)"
   ]
  },
  {
   "cell_type": "code",
   "execution_count": null,
   "id": "26d0fa27-5d6b-45b2-a936-f53b1751acb6",
   "metadata": {},
   "outputs": [],
   "source": [
    "model_7 = models.Sequential([\n",
    "    layers.Conv2D(32, (3, 3), activation='relu',kernel_initializer='he_normal', input_shape= input_shape),\n",
    "    layers.MaxPooling2D((2, 2)),\n",
    "    layers.Conv2D(64, (3, 3), activation='relu',kernel_initializer='he_normal'),\n",
    "    layers.MaxPooling2D((2, 2)),\n",
    "    layers.Conv2D(128, (3, 3), activation='relu',kernel_initializer='he_normal'),\n",
    "    layers.MaxPooling2D((2, 2)),\n",
    "    layers.Flatten(),\n",
    "    layers.Dense(128, activation='relu',kernel_initializer='he_normal'),\n",
    "    layers.Dense(1, activation='sigmoid')\n",
    "])\n",
    "results_7, model_7 = modeler(model_7, num_epochs=50)"
   ]
  },
  {
   "cell_type": "code",
   "execution_count": null,
   "id": "76c040de-a5c8-4c3a-a769-32451f16b6b0",
   "metadata": {},
   "outputs": [],
   "source": []
  },
  {
   "cell_type": "code",
   "execution_count": null,
   "id": "fe13a282-b6eb-4e60-a738-10b98dccd8b7",
   "metadata": {},
   "outputs": [],
   "source": []
  }
 ],
 "metadata": {
  "kernelspec": {
   "display_name": "Python 3 (ipykernel)",
   "language": "python",
   "name": "python3"
  },
  "language_info": {
   "codemirror_mode": {
    "name": "ipython",
    "version": 3
   },
   "file_extension": ".py",
   "mimetype": "text/x-python",
   "name": "python",
   "nbconvert_exporter": "python",
   "pygments_lexer": "ipython3",
   "version": "3.10.13"
  }
 },
 "nbformat": 4,
 "nbformat_minor": 5
}
