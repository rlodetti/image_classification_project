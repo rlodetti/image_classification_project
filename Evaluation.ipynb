{
 "cells": [
  {
   "cell_type": "markdown",
   "id": "4b0c8452-87a4-4d94-a6a6-da9602b2959c",
   "metadata": {},
   "source": [
    "## Evaluation\n",
    "Evaluate how well your work solves the stated business problem.\n",
    "\n",
    "***\n",
    "Questions to consider:\n",
    "* How do you interpret the results?\n",
    "* How well does your model fit your data? How much better is this than your baseline model?\n",
    "* How confident are you that your results would generalize beyond the data you have?\n",
    "* How confident are you that this model would benefit the business if put into use?\n",
    "***"
   ]
  },
  {
   "cell_type": "code",
   "execution_count": 1,
   "id": "6b1e205b-ea7f-4b04-ac6c-43ee5f4e04bb",
   "metadata": {},
   "outputs": [
    {
     "name": "stderr",
     "output_type": "stream",
     "text": [
      "2024-03-06 11:19:07.543569: I tensorflow/core/platform/cpu_feature_guard.cc:182] This TensorFlow binary is optimized to use available CPU instructions in performance-critical operations.\n",
      "To enable the following instructions: SSE4.1 SSE4.2 AVX AVX2 FMA, in other operations, rebuild TensorFlow with the appropriate compiler flags.\n"
     ]
    },
    {
     "name": "stdout",
     "output_type": "stream",
     "text": [
      "Found 587 files belonging to 2 classes.\n"
     ]
    }
   ],
   "source": [
    "from tensorflow.keras.models import load_model\n",
    "# import tensorflow as tf\n",
    "from my_modules.import_datasets import create_dataset, process_dataset\n",
    "\n",
    "test_dir = \"data/chest_xray/new_test\"\n",
    "test_ds = process_dataset(create_dataset(test_dir))"
   ]
  },
  {
   "cell_type": "code",
   "execution_count": null,
   "id": "11656706-6a0c-47b8-9a60-ed95631f1f80",
   "metadata": {},
   "outputs": [],
   "source": []
  },
  {
   "cell_type": "code",
   "execution_count": null,
   "id": "2d2d2f19-fb97-4445-8f5c-b0a3b730c859",
   "metadata": {},
   "outputs": [],
   "source": []
  },
  {
   "cell_type": "code",
   "execution_count": 2,
   "id": "3277360b-35f8-4473-8bce-ae80c398e1f8",
   "metadata": {},
   "outputs": [
    {
     "name": "stdout",
     "output_type": "stream",
     "text": [
      "19/19 [==============================] - 1s 2ms/step - loss: 0.2914 - auc: 0.9449 - recall: 0.8388 - accuracy: 0.8671\n",
      "[0.29140612483024597, 0.9448950886726379, 0.8387850522994995, 0.8671209812164307]\n"
     ]
    }
   ],
   "source": [
    "baseline_model = load_model('saved_models 2/baseline.keras')\n",
    "baseline_score = baseline_model.evaluate(test_ds)\n",
    "print(baseline_score)"
   ]
  },
  {
   "cell_type": "code",
   "execution_count": 10,
   "id": "18481715-da3a-4e2b-9c1a-f95b96008a35",
   "metadata": {},
   "outputs": [
    {
     "data": {
      "text/html": [
       "<div>\n",
       "<style scoped>\n",
       "    .dataframe tbody tr th:only-of-type {\n",
       "        vertical-align: middle;\n",
       "    }\n",
       "\n",
       "    .dataframe tbody tr th {\n",
       "        vertical-align: top;\n",
       "    }\n",
       "\n",
       "    .dataframe thead th {\n",
       "        text-align: right;\n",
       "    }\n",
       "</style>\n",
       "<table border=\"1\" class=\"dataframe\">\n",
       "  <thead>\n",
       "    <tr style=\"text-align: right;\">\n",
       "      <th></th>\n",
       "      <th>loss</th>\n",
       "      <th>recall</th>\n",
       "      <th>AUC</th>\n",
       "    </tr>\n",
       "  </thead>\n",
       "  <tbody>\n",
       "    <tr>\n",
       "      <th>baseline</th>\n",
       "      <td>0.2914</td>\n",
       "      <td>0.8388</td>\n",
       "      <td>0.9449</td>\n",
       "    </tr>\n",
       "  </tbody>\n",
       "</table>\n",
       "</div>"
      ],
      "text/plain": [
       "            loss  recall     AUC\n",
       "baseline  0.2914  0.8388  0.9449"
      ]
     },
     "metadata": {},
     "output_type": "display_data"
    }
   ],
   "source": [
    "import pandas as pd\n",
    "loss = round(baseline_score[0],4)\n",
    "recall = round(baseline_score[2],4)\n",
    "AUC = round(baseline_score[1],4)\n",
    "name = 'baseline'\n",
    "df = pd.DataFrame([[loss,recall,AUC]],columns=['loss','recall','AUC'],index=[name])\n",
    "display(df)"
   ]
  },
  {
   "cell_type": "code",
   "execution_count": 3,
   "id": "898e0a69-6a1c-4d4d-87fe-421db7e409bb",
   "metadata": {},
   "outputs": [
    {
     "name": "stdout",
     "output_type": "stream",
     "text": [
      "19/19 [==============================] - 1s 30ms/step - loss: 0.1365 - auc: 0.9861 - recall: 0.9603 - accuracy: 0.9506\n",
      "<keras.src.engine.sequential.Sequential object at 0x16a9cc1d0>\n"
     ]
    }
   ],
   "source": [
    "overfit_model = load_model('saved_models 2/model_8.keras')\n",
    "overfit_score = overfit_model.evaluate(test_ds)\n",
    "print(overfit_model)"
   ]
  },
  {
   "cell_type": "code",
   "execution_count": 4,
   "id": "8d006cce-fda8-4ba2-a0e8-81dfca111df4",
   "metadata": {},
   "outputs": [
    {
     "name": "stdout",
     "output_type": "stream",
     "text": [
      "19/19 [==============================] - 1s 30ms/step - loss: 0.1089 - auc: 0.9911 - recall: 0.9720 - accuracy: 0.9557\n",
      "<keras.src.engine.sequential.Sequential object at 0x16ad0d7d0>\n"
     ]
    }
   ],
   "source": [
    "final_model = load_model('saved_models 2/final_model.keras')\n",
    "final_score = final_model.evaluate(test_ds)\n",
    "print(final_model)"
   ]
  },
  {
   "cell_type": "code",
   "execution_count": null,
   "id": "1de19112-534d-494a-abfa-8217b21c0a3f",
   "metadata": {},
   "outputs": [],
   "source": []
  },
  {
   "cell_type": "code",
   "execution_count": null,
   "id": "f8cb9ccd-6624-494c-a20e-8a67efa6a4c9",
   "metadata": {},
   "outputs": [],
   "source": []
  },
  {
   "cell_type": "code",
   "execution_count": null,
   "id": "a781cf1e-577d-4f86-b46a-a9c19430c5ed",
   "metadata": {},
   "outputs": [],
   "source": []
  }
 ],
 "metadata": {
  "kernelspec": {
   "display_name": "Python 3 (ipykernel)",
   "language": "python",
   "name": "python3"
  },
  "language_info": {
   "codemirror_mode": {
    "name": "ipython",
    "version": 3
   },
   "file_extension": ".py",
   "mimetype": "text/x-python",
   "name": "python",
   "nbconvert_exporter": "python",
   "pygments_lexer": "ipython3",
   "version": "3.11.8"
  }
 },
 "nbformat": 4,
 "nbformat_minor": 5
}
